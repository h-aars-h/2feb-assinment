{
 "cells": [
  {
   "cell_type": "code",
   "execution_count": null,
   "id": "6c9df0aa-2335-40bb-9497-fd7f2ffdb025",
   "metadata": {},
   "outputs": [],
   "source": [
    "# Q1. Explain with an example each when to use a for loop and a while loop.\n",
    "# Ans 1= A \"for loop\" is used when you want to repeat a set number of times.and \n",
    "# \"while loop\" is used for condtion and that condion to true and when while loop going to runing .\n",
    "# for loop Example:\n",
    "for i in range(1,11):\n",
    "    print(i)\n",
    "    i=i+1\n",
    "# while loop example\n",
    "counter =1\n",
    "while counter<11:\n",
    "    print(counter)\n",
    "    counter=counter+1\n",
    "    \n",
    "    "
   ]
  },
  {
   "cell_type": "code",
   "execution_count": 8,
   "id": "ea44d7a0-7276-4d45-882e-9b9896e6e56f",
   "metadata": {},
   "outputs": [
    {
     "name": "stdout",
     "output_type": "stream",
     "text": [
      "Sum of the first 10 natural numbers: 55\n",
      "Product of the first 10 natural numbers: 3628800\n",
      "Sum of the first 10 natural numbers: 55\n",
      "Product of the first 10 natural numbers: 3628800\n"
     ]
    }
   ],
   "source": [
    "# Q2 .Write a python program to print the sum and product of the first 10 natural numbers using for\n",
    "# and while loop.\n",
    "sum = 0\n",
    "product = 1\n",
    "for i in range(1, 11):\n",
    "    sum += i\n",
    "    product *= i\n",
    "print(\"Sum of the first 10 natural numbers:\", sum)\n",
    "print(\"Product of the first 10 natural numbers:\", product)\n",
    "sum = 0\n",
    "product = 1\n",
    "i = 1\n",
    "while i <= 10:\n",
    "    sum += i\n",
    "    product *= i\n",
    "    i += 1\n",
    "print(\"Sum of the first 10 natural numbers:\", sum)\n",
    "print(\"Product of the first 10 natural numbers:\", product)\n",
    "\n"
   ]
  },
  {
   "cell_type": "code",
   "execution_count": 64,
   "id": "d66bb84e-9e2b-4041-bf57-fd1e9db7d8e8",
   "metadata": {},
   "outputs": [
    {
     "name": "stdin",
     "output_type": "stream",
     "text": [
      "Enter the number of units consumed:  310\n"
     ]
    },
    {
     "name": "stdout",
     "output_type": "stream",
     "text": [
      "The total electricity bill is: 2250.0\n"
     ]
    }
   ],
   "source": [
    "# Q3. Create a python program to compute the electricity bill for a household.\n",
    "# The per-unit charges in rupees are as follows: For the first 100 units, the user will be charged Rs. 4.5 per\n",
    "# unit, for the next 100 units, the user will be charged Rs. 6 per unit, and for the next 100 units, the user will\n",
    "# # be charged Rs. 10 per unit, After 300 units and above the user will be charged Rs. 20 per unit.\n",
    "def electricity_bill(units):\n",
    "    if units <= 100:\n",
    "        bill = units * 4.5\n",
    "    elif units <= 200:\n",
    "        bill = (100 * 4.5) + ((units - 100) * 6)\n",
    "    elif units <= 300:\n",
    "        bill = (100 * 4.5) + (100 * 6) + ((units - 200) * 10)\n",
    "    else:\n",
    "        bill = (100 * 4.5) + (100 * 6) + (100 * 10) + ((units - 300) * 20)\n",
    "        \n",
    "    return bill\n",
    "\n",
    "units = int(input(\"Enter the number of units consumed: \"))\n",
    "bill = electricity_bill(units)\n",
    "print(\"The total electricity bill is:\", bill)\n",
    "# Enter the number of units consumed:  310\n",
    "# The total electricity bill is: 2250.0"
   ]
  },
  {
   "cell_type": "code",
   "execution_count": null,
   "id": "8484c343-58d7-4953-a7e5-8e9a54adc963",
   "metadata": {},
   "outputs": [],
   "source": [
    "# Q4.Create a list of numbers from 1 to 100. Use for loop and while loop to calculate the cube of each\n",
    "# number and if the cube of that number is divisible by 4 or 5 then append that number in a list and print\n",
    "# that list.\n",
    "# Using for loop\n",
    "cubes_for = []\n",
    "for i in range(0, 101):\n",
    "    cube = i ** 3\n",
    "    if cube % 4 == 0 or cube % 5 == 0:\n",
    "        cubes_for.append(i)\n",
    "\n",
    "print(\"Numbers whose cube is divisible by 4 or 5 (using for loop):\", cubes_for)\n",
    "\n",
    "# Using while loop\n",
    "# cubes_while = []\n",
    "# i = 1\n",
    "# while i <= 100:\n",
    "#     cube = i ** 3\n",
    "#     if cube % 4 == 0 or cube % 5 == 0:\n",
    "#         cubes_while.append(i)\n",
    "#     i += 1\n",
    "\n",
    "# print(\"Numbers whose cube is divisible by 4 or 5 (using while loop):\", cubes_while)\n",
    "# Using for loop\n",
    "cubes_for = []\n",
    "for i in range(1, 101):\n",
    "    cube = i ** 3\n",
    "    if cube % 4 == 0 or cube % 5 == 0:\n",
    "        cubes_for.append(i)\n",
    "\n",
    "print(\"Numbers whose cube is divisible by 4 or 5 (using for loop):\", cubes_for)\n",
    "\n",
    "# Using while loop\n",
    "cubes_while = []\n",
    "i = 1\n",
    "while i <= 100:\n",
    "    cube = i ** 3\n",
    "    if cube % 4 == 0 or cube % 5 == 0:\n",
    "        cubes_while.append(i)\n",
    "    i += 1\n",
    "\n",
    "print(\"Numbers whose cube is divisible by 4 or 5 (using while loop):\", cubes_while)\n",
    "\n"
   ]
  },
  {
   "cell_type": "code",
   "execution_count": 80,
   "id": "c868fe48-2a9a-4740-8946-4c95cf992596",
   "metadata": {},
   "outputs": [
    {
     "data": {
      "text/plain": [
       "12"
      ]
     },
     "execution_count": 80,
     "metadata": {},
     "output_type": "execute_result"
    }
   ],
   "source": [
    "# Q5. Write a program to filter count vowels in the below-given string.\n",
    "# string = \"I want to become a data scientist\"\n",
    "string = \"I want to become a data scientist\"\n",
    "vowel=\"aeiouAEIOU\"\n",
    "vowel_count=0\n",
    "countvowel = filter(lambda x:x in vowel,string )\n",
    "\n",
    "vowel_count=len(list(countvowel))\n",
    "vowel_count"
   ]
  },
  {
   "cell_type": "code",
   "execution_count": null,
   "id": "e2156228-a7b0-475b-8c17-2f002eb3ca2c",
   "metadata": {},
   "outputs": [],
   "source": []
  }
 ],
 "metadata": {
  "kernelspec": {
   "display_name": "Python 3 (ipykernel)",
   "language": "python",
   "name": "python3"
  },
  "language_info": {
   "codemirror_mode": {
    "name": "ipython",
    "version": 3
   },
   "file_extension": ".py",
   "mimetype": "text/x-python",
   "name": "python",
   "nbconvert_exporter": "python",
   "pygments_lexer": "ipython3",
   "version": "3.10.6"
  }
 },
 "nbformat": 4,
 "nbformat_minor": 5
}
