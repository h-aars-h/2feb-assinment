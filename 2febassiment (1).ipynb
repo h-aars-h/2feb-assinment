{
 "cells": [
  {
   "cell_type": "raw",
   "id": "211b37fd-0571-4bcf-abca-8f42600f2f67",
   "metadata": {},
   "source": [
    "for i in range (10):\n",
    "    print(i)\n"
   ]
  },
  {
   "cell_type": "code",
   "execution_count": 29,
   "id": "09f4120a-80bd-4e60-acb1-ace3f7fb605c",
   "metadata": {},
   "outputs": [],
   "source": [
    "def test_fib(n):\n",
    "    '''this is for check the fibnaci series'''\n",
    "    a,b=0,1\n",
    "    for i in range(n):\n",
    "        yield a\n",
    "        a,b=b,a+b"
   ]
  },
  {
   "cell_type": "code",
   "execution_count": 30,
   "id": "3fbe1eaf-1b81-44d5-9ba6-978c41809fc9",
   "metadata": {},
   "outputs": [
    {
     "name": "stdout",
     "output_type": "stream",
     "text": [
      "0\n",
      "1\n",
      "1\n",
      "2\n",
      "3\n",
      "5\n",
      "8\n",
      "13\n",
      "21\n",
      "34\n"
     ]
    }
   ],
   "source": [
    "for i in test_fib(10):\n",
    "    print(i)"
   ]
  },
  {
   "cell_type": "code",
   "execution_count": 16,
   "id": "3ba34e41-0382-41e1-b671-52ad3415cf6a",
   "metadata": {},
   "outputs": [
    {
     "ename": "NameError",
     "evalue": "name 'i' is not defined",
     "output_type": "error",
     "traceback": [
      "\u001b[0;31m---------------------------------------------------------------------------\u001b[0m",
      "\u001b[0;31mNameError\u001b[0m                                 Traceback (most recent call last)",
      "Cell \u001b[0;32mIn [16], line 5\u001b[0m\n\u001b[1;32m      3\u001b[0m     \u001b[38;5;28;01mwhile\u001b[39;00m count\u001b[38;5;241m<\u001b[39mn:\n\u001b[1;32m      4\u001b[0m         \u001b[38;5;28mprint\u001b[39m(i)\n\u001b[0;32m----> 5\u001b[0m \u001b[43mcount_test\u001b[49m\u001b[43m(\u001b[49m\u001b[38;5;241;43m10\u001b[39;49m\u001b[43m)\u001b[49m\n",
      "Cell \u001b[0;32mIn [16], line 4\u001b[0m, in \u001b[0;36mcount_test\u001b[0;34m(n)\u001b[0m\n\u001b[1;32m      2\u001b[0m count\u001b[38;5;241m=\u001b[39m\u001b[38;5;241m1\u001b[39m\n\u001b[1;32m      3\u001b[0m \u001b[38;5;28;01mwhile\u001b[39;00m count\u001b[38;5;241m<\u001b[39mn:\n\u001b[0;32m----> 4\u001b[0m     \u001b[38;5;28mprint\u001b[39m(\u001b[43mi\u001b[49m)\n",
      "\u001b[0;31mNameError\u001b[0m: name 'i' is not defined"
     ]
    }
   ],
   "source": [
    "def count_test(n):\n",
    "    count=1\n",
    "    while count<n:\n",
    "        print(i)\n",
    "count_test(10)"
   ]
  },
  {
   "cell_type": "code",
   "execution_count": 23,
   "id": "d880c898-7b86-43c6-b2cb-03e17750cdec",
   "metadata": {},
   "outputs": [],
   "source": [
    "def count_test(n):\n",
    "    count=1\n",
    "    while count<n:\n",
    "        return count\n",
    "        count=count+1\n"
   ]
  },
  {
   "cell_type": "code",
   "execution_count": 24,
   "id": "d771411d-b2a5-4716-8a0b-eaedf2c5d762",
   "metadata": {},
   "outputs": [],
   "source": [
    "c = count_test(10)"
   ]
  },
  {
   "cell_type": "code",
   "execution_count": 25,
   "id": "1a81748b-e6a7-411b-a497-091741788d71",
   "metadata": {},
   "outputs": [
    {
     "ename": "TypeError",
     "evalue": "'int' object is not iterable",
     "output_type": "error",
     "traceback": [
      "\u001b[0;31m---------------------------------------------------------------------------\u001b[0m",
      "\u001b[0;31mTypeError\u001b[0m                                 Traceback (most recent call last)",
      "Cell \u001b[0;32mIn [25], line 1\u001b[0m\n\u001b[0;32m----> 1\u001b[0m \u001b[38;5;28;01mfor\u001b[39;00m i \u001b[38;5;129;01min\u001b[39;00m c :\n\u001b[1;32m      2\u001b[0m     \u001b[38;5;28mprint\u001b[39m(i)\n",
      "\u001b[0;31mTypeError\u001b[0m: 'int' object is not iterable"
     ]
    }
   ],
   "source": [
    "for i in c :\n",
    "    print(i)"
   ]
  },
  {
   "cell_type": "code",
   "execution_count": 26,
   "id": "a6c944fa-58bc-4d88-89d5-e8d538b9ad6e",
   "metadata": {},
   "outputs": [],
   "source": [
    "def test21(n,p):\n",
    "    return n**p"
   ]
  },
  {
   "cell_type": "code",
   "execution_count": 28,
   "id": "8d0170a3-a182-4ccc-8bc7-81badfb34018",
   "metadata": {},
   "outputs": [
    {
     "name": "stdin",
     "output_type": "stream",
     "text": [
      "enter your no check cube root  3\n"
     ]
    },
    {
     "data": {
      "text/plain": [
       "27"
      ]
     },
     "execution_count": 28,
     "metadata": {},
     "output_type": "execute_result"
    }
   ],
   "source": [
    "\n",
    "a= int(input(\"enter your no check cube root \"))\n",
    "test21(a,3)"
   ]
  },
  {
   "cell_type": "code",
   "execution_count": 40,
   "id": "b3832b7d-5bac-4954-b189-16c3e14bfde3",
   "metadata": {},
   "outputs": [
    {
     "data": {
      "text/plain": [
       "8"
      ]
     },
     "execution_count": 40,
     "metadata": {},
     "output_type": "execute_result"
    }
   ],
   "source": [
    "a=lambda x,y:x**y\n",
    "a(2,3)"
   ]
  },
  {
   "cell_type": "code",
   "execution_count": 49,
   "id": "d613295e-f721-48b1-bf12-160b229873cc",
   "metadata": {},
   "outputs": [],
   "source": [
    "dollar_to_ruppe= lambda i:i/68"
   ]
  },
  {
   "cell_type": "code",
   "execution_count": 51,
   "id": "ff5bdd7f-8030-47a2-a1f9-b513bf36ea32",
   "metadata": {},
   "outputs": [
    {
     "data": {
      "text/plain": [
       "220.58823529411765"
      ]
     },
     "execution_count": 51,
     "metadata": {},
     "output_type": "execute_result"
    }
   ],
   "source": [
    "dollar_to_ruppe(15000)"
   ]
  },
  {
   "cell_type": "code",
   "execution_count": 58,
   "id": "1b0c8208-2939-4803-a07b-905d5345e74f",
   "metadata": {},
   "outputs": [],
   "source": [
    "find_max_no=lambda x,y : x if x>y  else y"
   ]
  },
  {
   "cell_type": "code",
   "execution_count": 59,
   "id": "cf9879a4-f4d2-4c37-b294-c696718bd578",
   "metadata": {},
   "outputs": [
    {
     "data": {
      "text/plain": [
       "43"
      ]
     },
     "execution_count": 59,
     "metadata": {},
     "output_type": "execute_result"
    }
   ],
   "source": [
    "find_max_no(25,43)"
   ]
  },
  {
   "cell_type": "code",
   "execution_count": 79,
   "id": "7d725576-a6bc-4ef7-90e4-a9864de8aa5e",
   "metadata": {},
   "outputs": [],
   "source": [
    "l=[2,4,6,7,8,9]"
   ]
  },
  {
   "cell_type": "code",
   "execution_count": 35,
   "id": "84a62a64-36ec-4b3a-8a2a-8d0c745096f1",
   "metadata": {},
   "outputs": [
    {
     "data": {
      "text/plain": [
       "[2, 4, 6, 7, 8, 9]"
      ]
     },
     "execution_count": 35,
     "metadata": {},
     "output_type": "execute_result"
    }
   ],
   "source": [
    "l"
   ]
  },
  {
   "cell_type": "code",
   "execution_count": 47,
   "id": "e5d2ab9e-40d1-46b0-aec8-71287585132c",
   "metadata": {},
   "outputs": [],
   "source": [
    "def test23(l):\n",
    "    l1=[]\n",
    "    for i in l:\n",
    "        l1.append(i**2)\n",
    "    return l1"
   ]
  },
  {
   "cell_type": "code",
   "execution_count": 49,
   "id": "af42d60e-6429-442e-99e5-e476c43a4f7d",
   "metadata": {},
   "outputs": [
    {
     "data": {
      "text/plain": [
       "[4, 16, 36, 49, 64, 81]"
      ]
     },
     "execution_count": 49,
     "metadata": {},
     "output_type": "execute_result"
    }
   ],
   "source": [
    "test23(l)"
   ]
  },
  {
   "cell_type": "code",
   "execution_count": 73,
   "id": "f1138637-b2dd-46e1-92d5-36bd7c09ece6",
   "metadata": {},
   "outputs": [],
   "source": [
    "def genrator(a):\n",
    "    while i in a:\n",
    "        i=i+1\n",
    "        yield i\n",
    "    return i\n"
   ]
  },
  {
   "cell_type": "code",
   "execution_count": 74,
   "id": "870753b1-dae9-4f4f-b913-62dbdcc81589",
   "metadata": {},
   "outputs": [
    {
     "ename": "UnboundLocalError",
     "evalue": "local variable 'i' referenced before assignment",
     "output_type": "error",
     "traceback": [
      "\u001b[0;31m---------------------------------------------------------------------------\u001b[0m",
      "\u001b[0;31mUnboundLocalError\u001b[0m                         Traceback (most recent call last)",
      "Cell \u001b[0;32mIn [74], line 1\u001b[0m\n\u001b[0;32m----> 1\u001b[0m \u001b[38;5;28;43mlist\u001b[39;49m\u001b[43m(\u001b[49m\u001b[43mgenrator\u001b[49m\u001b[43m(\u001b[49m\u001b[38;5;241;43m5\u001b[39;49m\u001b[43m)\u001b[49m\u001b[43m)\u001b[49m\n",
      "Cell \u001b[0;32mIn [73], line 2\u001b[0m, in \u001b[0;36mgenrator\u001b[0;34m(a)\u001b[0m\n\u001b[1;32m      1\u001b[0m \u001b[38;5;28;01mdef\u001b[39;00m \u001b[38;5;21mgenrator\u001b[39m(a):\n\u001b[0;32m----> 2\u001b[0m     \u001b[38;5;28;01mwhile\u001b[39;00m \u001b[43mi\u001b[49m \u001b[38;5;129;01min\u001b[39;00m a:\n\u001b[1;32m      3\u001b[0m         i\u001b[38;5;241m=\u001b[39mi\u001b[38;5;241m+\u001b[39m\u001b[38;5;241m1\u001b[39m\n\u001b[1;32m      4\u001b[0m         \u001b[38;5;28;01myield\u001b[39;00m i\n",
      "\u001b[0;31mUnboundLocalError\u001b[0m: local variable 'i' referenced before assignment"
     ]
    }
   ],
   "source": [
    "list(genrator(5))"
   ]
  },
  {
   "cell_type": "code",
   "execution_count": 85,
   "id": "739fc032-db66-43cc-b770-bab3d08420ce",
   "metadata": {},
   "outputs": [],
   "source": [
    "sq =lambda a:a**2,l"
   ]
  },
  {
   "cell_type": "code",
   "execution_count": 81,
   "id": "214cdcef-5405-4eb3-ac0f-9de8e336b574",
   "metadata": {},
   "outputs": [
    {
     "data": {
      "text/plain": [
       "[4, 16, 36, 49, 64, 81]"
      ]
     },
     "execution_count": 81,
     "metadata": {},
     "output_type": "execute_result"
    }
   ],
   "source": [
    "list(map(sq,l))"
   ]
  },
  {
   "cell_type": "code",
   "execution_count": 83,
   "id": "2ec873fb-548d-4e99-80ba-2d6a271855b2",
   "metadata": {},
   "outputs": [
    {
     "data": {
      "text/plain": [
       "[4, 16, 36, 49, 64, 81]"
      ]
     },
     "execution_count": 83,
     "metadata": {},
     "output_type": "execute_result"
    }
   ],
   "source": [
    "list(map(lambda x:x**2,l))"
   ]
  },
  {
   "cell_type": "code",
   "execution_count": 5,
   "id": "4587668b-407d-4faf-9bf6-45076a820d95",
   "metadata": {},
   "outputs": [],
   "source": [
    "l1=[1,2,4,5,6,7]\n",
    "l2=[2,4,5,6,7,7]"
   ]
  },
  {
   "cell_type": "raw",
   "id": "fffe2e84-554d-430e-aa12-c57beac00332",
   "metadata": {},
   "source": [
    "list(map(lambda x,y:x+y,l1,l2))"
   ]
  },
  {
   "cell_type": "code",
   "execution_count": 4,
   "id": "f5fe3619-0d6a-4d47-82af-70bcbc9014bd",
   "metadata": {},
   "outputs": [
    {
     "data": {
      "text/plain": [
       "['P', 'W', 'S', 'K', 'I', 'L', 'L', 'L', 'S']"
      ]
     },
     "execution_count": 4,
     "metadata": {},
     "output_type": "execute_result"
    }
   ],
   "source": [
    "S=\"PWSKIlLLS\"\n",
    "list(map(lambda S:S.upper(),S))"
   ]
  },
  {
   "cell_type": "code",
   "execution_count": 6,
   "id": "9019a223-34f8-4357-af6f-90977d5f2e05",
   "metadata": {},
   "outputs": [
    {
     "data": {
      "text/plain": [
       "25"
      ]
     },
     "execution_count": 6,
     "metadata": {},
     "output_type": "execute_result"
    }
   ],
   "source": [
    "from functools import reduce\n",
    "reduce(lambda x,y:x+y,l1)"
   ]
  },
  {
   "cell_type": "code",
   "execution_count": 7,
   "id": "a97461b1-9eac-4844-a44e-27a1da29e851",
   "metadata": {},
   "outputs": [
    {
     "ename": "NameError",
     "evalue": "name 'x' is not defined",
     "output_type": "error",
     "traceback": [
      "\u001b[0;31m---------------------------------------------------------------------------\u001b[0m",
      "\u001b[0;31mNameError\u001b[0m                                 Traceback (most recent call last)",
      "Cell \u001b[0;32mIn [7], line 1\u001b[0m\n\u001b[0;32m----> 1\u001b[0m reduce(\u001b[38;5;28;01mlambda\u001b[39;00m x,y: x\u001b[38;5;241m>\u001b[39my,\u001b[43mx\u001b[49m)\n",
      "\u001b[0;31mNameError\u001b[0m: name 'x' is not defined"
     ]
    }
   ],
   "source": [
    "reduce(lambda x,y: x>y,x)"
   ]
  },
  {
   "cell_type": "code",
   "execution_count": 8,
   "id": "14cef955-1c3f-406c-8e4e-48ece1132589",
   "metadata": {},
   "outputs": [],
   "source": [
    "l2= [\"harsh\",'ram','pawankumar','mariya','shenaza']"
   ]
  },
  {
   "cell_type": "code",
   "execution_count": 9,
   "id": "677f0995-3648-4b89-987b-95cd2c94c90d",
   "metadata": {},
   "outputs": [
    {
     "data": {
      "text/plain": [
       "['harsh', 'ram', 'pawankumar', 'mariya', 'shenaza']"
      ]
     },
     "execution_count": 9,
     "metadata": {},
     "output_type": "execute_result"
    }
   ],
   "source": [
    "l2"
   ]
  },
  {
   "cell_type": "code",
   "execution_count": 14,
   "id": "12ca80db-d6fe-4941-9896-74bd4c4b4a43",
   "metadata": {},
   "outputs": [
    {
     "ename": "SyntaxError",
     "evalue": "invalid syntax. Perhaps you forgot a comma? (2554446886.py, line 1)",
     "output_type": "error",
     "traceback": [
      "\u001b[0;36m  Cell \u001b[0;32mIn [14], line 1\u001b[0;36m\u001b[0m\n\u001b[0;31m    list(filter(lambda x:l2 x.len)\u001b[0m\n\u001b[0m                         ^\u001b[0m\n\u001b[0;31mSyntaxError\u001b[0m\u001b[0;31m:\u001b[0m invalid syntax. Perhaps you forgot a comma?\n"
     ]
    }
   ],
   "source": [
    "list(filter(lambda x:l2 x.len)"
   ]
  },
  {
   "cell_type": "code",
   "execution_count": null,
   "id": "6aeae4b5-0f4b-419b-a5d7-dc79a94f4f51",
   "metadata": {},
   "outputs": [],
   "source": []
  }
 ],
 "metadata": {
  "kernelspec": {
   "display_name": "Python 3 (ipykernel)",
   "language": "python",
   "name": "python3"
  },
  "language_info": {
   "codemirror_mode": {
    "name": "ipython",
    "version": 3
   },
   "file_extension": ".py",
   "mimetype": "text/x-python",
   "name": "python",
   "nbconvert_exporter": "python",
   "pygments_lexer": "ipython3",
   "version": "3.10.6"
  }
 },
 "nbformat": 4,
 "nbformat_minor": 5
}
